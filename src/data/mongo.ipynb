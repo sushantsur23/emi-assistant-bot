{
 "cells": [
  {
   "cell_type": "code",
   "execution_count": 1,
   "id": "69e9bdb8",
   "metadata": {},
   "outputs": [
    {
     "name": "stdout",
     "output_type": "stream",
     "text": [
      "Collecting pymongo[srv]\n",
      "  Downloading pymongo-4.13.0-cp311-cp311-win_amd64.whl.metadata (22 kB)\n",
      "Collecting dnspython<3.0.0,>=1.16.0 (from pymongo[srv])\n",
      "  Downloading dnspython-2.7.0-py3-none-any.whl.metadata (5.8 kB)\n",
      "Downloading pymongo-4.13.0-cp311-cp311-win_amd64.whl (848 kB)\n",
      "   ---------------------------------------- 0.0/848.1 kB ? eta -:--:--\n",
      "   ------------ --------------------------- 262.1/848.1 kB ? eta -:--:--\n",
      "   ------------------------ --------------- 524.3/848.1 kB 1.1 MB/s eta 0:00:01\n",
      "   ---------------------------------------- 848.1/848.1 kB 1.3 MB/s eta 0:00:00\n",
      "Downloading dnspython-2.7.0-py3-none-any.whl (313 kB)\n",
      "Installing collected packages: dnspython, pymongo\n",
      "\n",
      "   ---------------------------------------- 0/2 [dnspython]\n",
      "   ---------------------------------------- 0/2 [dnspython]\n",
      "   ---------------------------------------- 0/2 [dnspython]\n",
      "   ---------------------------------------- 0/2 [dnspython]\n",
      "   ---------------------------------------- 0/2 [dnspython]\n",
      "   ---------------------------------------- 0/2 [dnspython]\n",
      "   ---------------------------------------- 0/2 [dnspython]\n",
      "   ---------------------------------------- 0/2 [dnspython]\n",
      "   ---------------------------------------- 0/2 [dnspython]\n",
      "   ---------------------------------------- 0/2 [dnspython]\n",
      "   -------------------- ------------------- 1/2 [pymongo]\n",
      "   -------------------- ------------------- 1/2 [pymongo]\n",
      "   -------------------- ------------------- 1/2 [pymongo]\n",
      "   -------------------- ------------------- 1/2 [pymongo]\n",
      "   -------------------- ------------------- 1/2 [pymongo]\n",
      "   -------------------- ------------------- 1/2 [pymongo]\n",
      "   -------------------- ------------------- 1/2 [pymongo]\n",
      "   -------------------- ------------------- 1/2 [pymongo]\n",
      "   -------------------- ------------------- 1/2 [pymongo]\n",
      "   -------------------- ------------------- 1/2 [pymongo]\n",
      "   ---------------------------------------- 2/2 [pymongo]\n",
      "\n",
      "Successfully installed dnspython-2.7.0 pymongo-4.13.0\n"
     ]
    },
    {
     "name": "stderr",
     "output_type": "stream",
     "text": [
      "WARNING: pymongo 4.13.0 does not provide the extra 'srv'\n"
     ]
    }
   ],
   "source": [
    "!pip install pymongo[srv]"
   ]
  },
  {
   "cell_type": "code",
   "execution_count": 9,
   "id": "2c69d61e",
   "metadata": {},
   "outputs": [],
   "source": [
    "from dotenv import load_dotenv\n",
    "import os\n",
    "\n",
    "# Load environment variables from .env file\n",
    "load_dotenv()\n",
    "\n",
    "# Access specific variables\n",
    "mongodb_url = os.getenv(\"MONGODB_URL\")\n",
    "database_name = os.getenv(\"DATABASE_NAME\")\n",
    "collection_name = os.getenv(\"COLLECTION_NAME\")\n"
   ]
  },
  {
   "cell_type": "code",
   "execution_count": 7,
   "id": "f17deb51",
   "metadata": {},
   "outputs": [],
   "source": [
    "import pymongo\n",
    "client = pymongo.MongoClient(mongodb_url)\n",
    "db = client"
   ]
  },
  {
   "cell_type": "code",
   "execution_count": null,
   "id": "e205edf2",
   "metadata": {},
   "outputs": [],
   "source": [
    "list_of_records = [\n",
    "    {'Name': 'Sravan Kumar', 'Account_No': 4226852255456, 'Principal': 367929, 'Interest': 41092, 'Monthly_EMI': 409021, 'Balance': 5433234, 'Due_Date': '3/5/2025', 'Status': 'Paid'},\n",
    "    {'Name': 'Sravan Kumar', 'Account_No': 4226852255456, 'Principal': 370535, 'Interest': 38485, 'Monthly_EMI': 409021, 'Balance': 5062699, 'Due_Date': '4/5/2025', 'Status': 'Paid'},\n",
    "    {'Name': 'Sravan Kumar', 'Account_No': 4226852255456, 'Principal': 373160, 'Interest': 35861, 'Monthly_EMI': 409021, 'Balance': 4689539, 'Due_Date': '5/5/2025', 'Status': 'Pending'},\n",
    "    {'Name': 'Sravan Kumar', 'Account_No': 4226852255456, 'Principal': 375803, 'Interest': 33218, 'Monthly_EMI': 409021, 'Balance': 4313736, 'Due_Date': '6/5/2025', 'Status': 'Pending'},\n",
    "    {'Name': 'Sravan Kumar', 'Account_No': 4226852255456, 'Principal': 378465, 'Interest': 30556, 'Monthly_EMI': 409021, 'Balance': 3935271, 'Due_Date': '7/5/2025', 'Status': 'Pending'},\n",
    "    {'Name': 'Sravan Kumar', 'Account_No': 4226852255456, 'Principal': 381146, 'Interest': 27875, 'Monthly_EMI': 409021, 'Balance': 3554125, 'Due_Date': '8/5/2025', 'Status': 'Pending'},\n",
    "    {'Name': 'Sravan Kumar', 'Account_No': 4226852255456, 'Principal': 383846, 'Interest': 25175, 'Monthly_EMI': 409021, 'Balance': 3170280, 'Due_Date': '9/5/2025', 'Status': 'Pending'},\n",
    "    {'Name': 'Sravan Kumar', 'Account_No': 4226852255456, 'Principal': 386564, 'Interest': 22456, 'Monthly_EMI': 409021, 'Balance': 2783715, 'Due_Date': '10/5/2025', 'Status': 'Pending'},\n",
    "    {'Name': 'Sravan Kumar', 'Account_No': 4226852255456, 'Principal': 389303, 'Interest': 19718, 'Monthly_EMI': 409021, 'Balance': 2394413, 'Due_Date': '11/5/2025', 'Status': 'Pending'},\n",
    "    {'Name': 'Sravan Kumar', 'Account_No': 4226852255456, 'Principal': 392060, 'Interest': 16960, 'Monthly_EMI': 409021, 'Balance': 2002353, 'Due_Date': '12/5/2025', 'Status': 'Pending'},\n",
    "    {'Name': 'Sravan Kumar', 'Account_No': 4226852255456, 'Principal': 394837, 'Interest': 14183, 'Monthly_EMI': 409021, 'Balance': 1607515, 'Due_Date': '1/5/2026', 'Status': 'Pending'},\n",
    "    {'Name': 'Sravan Kumar', 'Account_No': 4226852255456, 'Principal': 397634, 'Interest': 11387, 'Monthly_EMI': 409021, 'Balance': 1209881, 'Due_Date': '2/5/2026', 'Status': 'Pending'},\n",
    "    {'Name': 'Sravan Kumar', 'Account_No': 4226852255456, 'Principal': 400451, 'Interest': 8570, 'Monthly_EMI': 409021, 'Balance': 809431, 'Due_Date': '3/5/2026', 'Status': 'Pending'},\n",
    "    {'Name': 'Sravan Kumar', 'Account_No': 4226852255456, 'Principal': 403287, 'Interest': 5733, 'Monthly_EMI': 409021, 'Balance': 406144, 'Due_Date': '4/5/2026', 'Status': 'Pending'},\n",
    "    {'Name': 'Sravan Kumar', 'Account_No': 4226852255456, 'Principal': 406144, 'Interest': 2877, 'Monthly_EMI': 409021, 'Balance': 0, 'Due_Date': '5/5/2026', 'Status': 'Pending'}\n",
    "]"
   ]
  },
  {
   "cell_type": "code",
   "execution_count": 10,
   "id": "afada437",
   "metadata": {},
   "outputs": [],
   "source": [
    "import pymongo\n",
    "\n",
    "USR = \"root\" # User created by us\n",
    "\n",
    "# Auto Generated Password or Password set by You\n",
    "# Update according to your set password for autogenerated password\n",
    "PWD = \"root\" \n",
    "\n",
    "# Establish a connection with mongoDB\n",
    "client = pymongo.MongoClient(mongodb_url)\n",
    "\n",
    "# Create a DB\n",
    "dataBase = client[database_name]\n",
    "\n",
    "# Create a Collection Name\n",
    "COLLECTION_NAME = collection_name\n",
    "\n",
    "collection = dataBase[COLLECTION_NAME]\n",
    "\n",
    "# insert above records in the collection\n",
    "rec = collection.insert_many(list_of_records)\n",
    "\n",
    "# Lets Verify all the record at once present in the record with all the fields\n",
    "all_record = collection.find()\n"
   ]
  },
  {
   "cell_type": "code",
   "execution_count": 11,
   "id": "6865e159",
   "metadata": {},
   "outputs": [
    {
     "name": "stdout",
     "output_type": "stream",
     "text": [
      "0: {'_id': ObjectId('6831bbbd073b622031c7a6a6'), 'Name': 'Sravan Kumar', 'Account_No': 4226852255456, 'Principal': 367929, 'Interest': 41092, 'Monthly_EMI': 409021, 'Balance': 5433234, 'Due_Date': '3/5/2025', 'Status': 'Paid'}\n",
      "1: {'_id': ObjectId('6831bbbd073b622031c7a6a7'), 'Name': 'Sravan Kumar', 'Account_No': 4226852255456, 'Principal': 370535, 'Interest': 38485, 'Monthly_EMI': 409021, 'Balance': 5062699, 'Due_Date': '4/5/2025', 'Status': 'Paid'}\n",
      "2: {'_id': ObjectId('6831bbbd073b622031c7a6a8'), 'Name': 'Sravan Kumar', 'Account_No': 4226852255456, 'Principal': 373160, 'Interest': 35861, 'Monthly_EMI': 409021, 'Balance': 4689539, 'Due_Date': '5/5/2025', 'Status': 'Pending'}\n",
      "3: {'_id': ObjectId('6831bbbd073b622031c7a6a9'), 'Name': 'Sravan Kumar', 'Account_No': 4226852255456, 'Principal': 375803, 'Interest': 33218, 'Monthly_EMI': 409021, 'Balance': 4313736, 'Due_Date': '6/5/2025', 'Status': 'Pending'}\n",
      "4: {'_id': ObjectId('6831bbbd073b622031c7a6aa'), 'Name': 'Sravan Kumar', 'Account_No': 4226852255456, 'Principal': 378465, 'Interest': 30556, 'Monthly_EMI': 409021, 'Balance': 3935271, 'Due_Date': '7/5/2025', 'Status': 'Pending'}\n",
      "5: {'_id': ObjectId('6831bbbd073b622031c7a6ab'), 'Name': 'Sravan Kumar', 'Account_No': 4226852255456, 'Principal': 381146, 'Interest': 27875, 'Monthly_EMI': 409021, 'Balance': 3554125, 'Due_Date': '8/5/2025', 'Status': 'Pending'}\n",
      "6: {'_id': ObjectId('6831bbbd073b622031c7a6ac'), 'Name': 'Sravan Kumar', 'Account_No': 4226852255456, 'Principal': 383846, 'Interest': 25175, 'Monthly_EMI': 409021, 'Balance': 3170280, 'Due_Date': '9/5/2025', 'Status': 'Pending'}\n",
      "7: {'_id': ObjectId('6831bbbd073b622031c7a6ad'), 'Name': 'Sravan Kumar', 'Account_No': 4226852255456, 'Principal': 386564, 'Interest': 22456, 'Monthly_EMI': 409021, 'Balance': 2783715, 'Due_Date': '10/5/2025', 'Status': 'Pending'}\n",
      "8: {'_id': ObjectId('6831bbbd073b622031c7a6ae'), 'Name': 'Sravan Kumar', 'Account_No': 4226852255456, 'Principal': 389303, 'Interest': 19718, 'Monthly_EMI': 409021, 'Balance': 2394413, 'Due_Date': '11/5/2025', 'Status': 'Pending'}\n",
      "9: {'_id': ObjectId('6831bbbd073b622031c7a6af'), 'Name': 'Sravan Kumar', 'Account_No': 4226852255456, 'Principal': 392060, 'Interest': 16960, 'Monthly_EMI': 409021, 'Balance': 2002353, 'Due_Date': '12/5/2025', 'Status': 'Pending'}\n",
      "10: {'_id': ObjectId('6831bbbd073b622031c7a6b0'), 'Name': 'Sravan Kumar', 'Account_No': 4226852255456, 'Principal': 394837, 'Interest': 14183, 'Monthly_EMI': 409021, 'Balance': 1607515, 'Due_Date': '1/5/2026', 'Status': 'Pending'}\n",
      "11: {'_id': ObjectId('6831bbbd073b622031c7a6b1'), 'Name': 'Sravan Kumar', 'Account_No': 4226852255456, 'Principal': 397634, 'Interest': 11387, 'Monthly_EMI': 409021, 'Balance': 1209881, 'Due_Date': '2/5/2026', 'Status': 'Pending'}\n",
      "12: {'_id': ObjectId('6831bbbd073b622031c7a6b2'), 'Name': 'Sravan Kumar', 'Account_No': 4226852255456, 'Principal': 400451, 'Interest': 8570, 'Monthly_EMI': 409021, 'Balance': 809431, 'Due_Date': '3/5/2026', 'Status': 'Pending'}\n",
      "13: {'_id': ObjectId('6831bbbd073b622031c7a6b3'), 'Name': 'Sravan Kumar', 'Account_No': 4226852255456, 'Principal': 403287, 'Interest': 5733, 'Monthly_EMI': 409021, 'Balance': 406144, 'Due_Date': '4/5/2026', 'Status': 'Pending'}\n",
      "14: {'_id': ObjectId('6831bbbd073b622031c7a6b4'), 'Name': 'Sravan Kumar', 'Account_No': 4226852255456, 'Principal': 406144, 'Interest': 2877, 'Monthly_EMI': 409021, 'Balance': 0, 'Due_Date': '5/5/2026', 'Status': 'Pending'}\n"
     ]
    }
   ],
   "source": [
    "for idx, record in enumerate(all_record):\n",
    "    print(f\"{idx}: {record}\")"
   ]
  },
  {
   "cell_type": "code",
   "execution_count": null,
   "id": "492d6c21",
   "metadata": {},
   "outputs": [],
   "source": []
  }
 ],
 "metadata": {
  "kernelspec": {
   "display_name": "emi-assistant-env",
   "language": "python",
   "name": "python3"
  },
  "language_info": {
   "codemirror_mode": {
    "name": "ipython",
    "version": 3
   },
   "file_extension": ".py",
   "mimetype": "text/x-python",
   "name": "python",
   "nbconvert_exporter": "python",
   "pygments_lexer": "ipython3",
   "version": "3.11.11"
  }
 },
 "nbformat": 4,
 "nbformat_minor": 5
}
